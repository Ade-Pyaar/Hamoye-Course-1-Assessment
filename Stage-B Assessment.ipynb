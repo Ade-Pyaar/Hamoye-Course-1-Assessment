{
 "cells": [
  {
   "cell_type": "code",
   "execution_count": 1,
   "id": "0ce01397",
   "metadata": {},
   "outputs": [],
   "source": [
    "import numpy as np\n",
    "import pandas as pd\n",
    "import seaborn as sns\n",
    "\n",
    "from sklearn.linear_model import LinearRegression, Ridge, Lasso\n",
    "from sklearn.preprocessing import MinMaxScaler\n",
    "from sklearn.model_selection import train_test_split\n",
    "from sklearn.metrics import mean_absolute_error, mean_squared_error, r2_score"
   ]
  },
  {
   "cell_type": "code",
   "execution_count": 2,
   "id": "fcb3cad8",
   "metadata": {},
   "outputs": [],
   "source": [
    "pd.set_option('display.max_rows', None)\n",
    "pd.set_option('display.max_columns', None)"
   ]
  },
  {
   "cell_type": "code",
   "execution_count": 3,
   "id": "96f60425",
   "metadata": {
    "scrolled": true
   },
   "outputs": [
    {
     "data": {
      "text/html": [
       "<div>\n",
       "<style scoped>\n",
       "    .dataframe tbody tr th:only-of-type {\n",
       "        vertical-align: middle;\n",
       "    }\n",
       "\n",
       "    .dataframe tbody tr th {\n",
       "        vertical-align: top;\n",
       "    }\n",
       "\n",
       "    .dataframe thead th {\n",
       "        text-align: right;\n",
       "    }\n",
       "</style>\n",
       "<table border=\"1\" class=\"dataframe\">\n",
       "  <thead>\n",
       "    <tr style=\"text-align: right;\">\n",
       "      <th></th>\n",
       "      <th>date</th>\n",
       "      <th>Appliances</th>\n",
       "      <th>lights</th>\n",
       "      <th>T1</th>\n",
       "      <th>RH_1</th>\n",
       "      <th>T2</th>\n",
       "      <th>RH_2</th>\n",
       "      <th>T3</th>\n",
       "      <th>RH_3</th>\n",
       "      <th>T4</th>\n",
       "      <th>RH_4</th>\n",
       "      <th>T5</th>\n",
       "      <th>RH_5</th>\n",
       "      <th>T6</th>\n",
       "      <th>RH_6</th>\n",
       "      <th>T7</th>\n",
       "      <th>RH_7</th>\n",
       "      <th>T8</th>\n",
       "      <th>RH_8</th>\n",
       "      <th>T9</th>\n",
       "      <th>RH_9</th>\n",
       "      <th>T_out</th>\n",
       "      <th>Press_mm_hg</th>\n",
       "      <th>RH_out</th>\n",
       "      <th>Windspeed</th>\n",
       "      <th>Visibility</th>\n",
       "      <th>Tdewpoint</th>\n",
       "      <th>rv1</th>\n",
       "      <th>rv2</th>\n",
       "    </tr>\n",
       "  </thead>\n",
       "  <tbody>\n",
       "    <tr>\n",
       "      <th>0</th>\n",
       "      <td>2016-01-11 17:00:00</td>\n",
       "      <td>60</td>\n",
       "      <td>30</td>\n",
       "      <td>19.89</td>\n",
       "      <td>47.596667</td>\n",
       "      <td>19.2</td>\n",
       "      <td>44.790000</td>\n",
       "      <td>19.79</td>\n",
       "      <td>44.730000</td>\n",
       "      <td>19.000000</td>\n",
       "      <td>45.566667</td>\n",
       "      <td>17.166667</td>\n",
       "      <td>55.20</td>\n",
       "      <td>7.026667</td>\n",
       "      <td>84.256667</td>\n",
       "      <td>17.200000</td>\n",
       "      <td>41.626667</td>\n",
       "      <td>18.2</td>\n",
       "      <td>48.900000</td>\n",
       "      <td>17.033333</td>\n",
       "      <td>45.53</td>\n",
       "      <td>6.600000</td>\n",
       "      <td>733.5</td>\n",
       "      <td>92.0</td>\n",
       "      <td>7.000000</td>\n",
       "      <td>63.000000</td>\n",
       "      <td>5.3</td>\n",
       "      <td>13.275433</td>\n",
       "      <td>13.275433</td>\n",
       "    </tr>\n",
       "    <tr>\n",
       "      <th>1</th>\n",
       "      <td>2016-01-11 17:10:00</td>\n",
       "      <td>60</td>\n",
       "      <td>30</td>\n",
       "      <td>19.89</td>\n",
       "      <td>46.693333</td>\n",
       "      <td>19.2</td>\n",
       "      <td>44.722500</td>\n",
       "      <td>19.79</td>\n",
       "      <td>44.790000</td>\n",
       "      <td>19.000000</td>\n",
       "      <td>45.992500</td>\n",
       "      <td>17.166667</td>\n",
       "      <td>55.20</td>\n",
       "      <td>6.833333</td>\n",
       "      <td>84.063333</td>\n",
       "      <td>17.200000</td>\n",
       "      <td>41.560000</td>\n",
       "      <td>18.2</td>\n",
       "      <td>48.863333</td>\n",
       "      <td>17.066667</td>\n",
       "      <td>45.56</td>\n",
       "      <td>6.483333</td>\n",
       "      <td>733.6</td>\n",
       "      <td>92.0</td>\n",
       "      <td>6.666667</td>\n",
       "      <td>59.166667</td>\n",
       "      <td>5.2</td>\n",
       "      <td>18.606195</td>\n",
       "      <td>18.606195</td>\n",
       "    </tr>\n",
       "    <tr>\n",
       "      <th>2</th>\n",
       "      <td>2016-01-11 17:20:00</td>\n",
       "      <td>50</td>\n",
       "      <td>30</td>\n",
       "      <td>19.89</td>\n",
       "      <td>46.300000</td>\n",
       "      <td>19.2</td>\n",
       "      <td>44.626667</td>\n",
       "      <td>19.79</td>\n",
       "      <td>44.933333</td>\n",
       "      <td>18.926667</td>\n",
       "      <td>45.890000</td>\n",
       "      <td>17.166667</td>\n",
       "      <td>55.09</td>\n",
       "      <td>6.560000</td>\n",
       "      <td>83.156667</td>\n",
       "      <td>17.200000</td>\n",
       "      <td>41.433333</td>\n",
       "      <td>18.2</td>\n",
       "      <td>48.730000</td>\n",
       "      <td>17.000000</td>\n",
       "      <td>45.50</td>\n",
       "      <td>6.366667</td>\n",
       "      <td>733.7</td>\n",
       "      <td>92.0</td>\n",
       "      <td>6.333333</td>\n",
       "      <td>55.333333</td>\n",
       "      <td>5.1</td>\n",
       "      <td>28.642668</td>\n",
       "      <td>28.642668</td>\n",
       "    </tr>\n",
       "    <tr>\n",
       "      <th>3</th>\n",
       "      <td>2016-01-11 17:30:00</td>\n",
       "      <td>50</td>\n",
       "      <td>40</td>\n",
       "      <td>19.89</td>\n",
       "      <td>46.066667</td>\n",
       "      <td>19.2</td>\n",
       "      <td>44.590000</td>\n",
       "      <td>19.79</td>\n",
       "      <td>45.000000</td>\n",
       "      <td>18.890000</td>\n",
       "      <td>45.723333</td>\n",
       "      <td>17.166667</td>\n",
       "      <td>55.09</td>\n",
       "      <td>6.433333</td>\n",
       "      <td>83.423333</td>\n",
       "      <td>17.133333</td>\n",
       "      <td>41.290000</td>\n",
       "      <td>18.1</td>\n",
       "      <td>48.590000</td>\n",
       "      <td>17.000000</td>\n",
       "      <td>45.40</td>\n",
       "      <td>6.250000</td>\n",
       "      <td>733.8</td>\n",
       "      <td>92.0</td>\n",
       "      <td>6.000000</td>\n",
       "      <td>51.500000</td>\n",
       "      <td>5.0</td>\n",
       "      <td>45.410389</td>\n",
       "      <td>45.410389</td>\n",
       "    </tr>\n",
       "    <tr>\n",
       "      <th>4</th>\n",
       "      <td>2016-01-11 17:40:00</td>\n",
       "      <td>60</td>\n",
       "      <td>40</td>\n",
       "      <td>19.89</td>\n",
       "      <td>46.333333</td>\n",
       "      <td>19.2</td>\n",
       "      <td>44.530000</td>\n",
       "      <td>19.79</td>\n",
       "      <td>45.000000</td>\n",
       "      <td>18.890000</td>\n",
       "      <td>45.530000</td>\n",
       "      <td>17.200000</td>\n",
       "      <td>55.09</td>\n",
       "      <td>6.366667</td>\n",
       "      <td>84.893333</td>\n",
       "      <td>17.200000</td>\n",
       "      <td>41.230000</td>\n",
       "      <td>18.1</td>\n",
       "      <td>48.590000</td>\n",
       "      <td>17.000000</td>\n",
       "      <td>45.40</td>\n",
       "      <td>6.133333</td>\n",
       "      <td>733.9</td>\n",
       "      <td>92.0</td>\n",
       "      <td>5.666667</td>\n",
       "      <td>47.666667</td>\n",
       "      <td>4.9</td>\n",
       "      <td>10.084097</td>\n",
       "      <td>10.084097</td>\n",
       "    </tr>\n",
       "  </tbody>\n",
       "</table>\n",
       "</div>"
      ],
      "text/plain": [
       "                 date  Appliances  lights     T1       RH_1    T2       RH_2  \\\n",
       "0 2016-01-11 17:00:00          60      30  19.89  47.596667  19.2  44.790000   \n",
       "1 2016-01-11 17:10:00          60      30  19.89  46.693333  19.2  44.722500   \n",
       "2 2016-01-11 17:20:00          50      30  19.89  46.300000  19.2  44.626667   \n",
       "3 2016-01-11 17:30:00          50      40  19.89  46.066667  19.2  44.590000   \n",
       "4 2016-01-11 17:40:00          60      40  19.89  46.333333  19.2  44.530000   \n",
       "\n",
       "      T3       RH_3         T4       RH_4         T5   RH_5        T6  \\\n",
       "0  19.79  44.730000  19.000000  45.566667  17.166667  55.20  7.026667   \n",
       "1  19.79  44.790000  19.000000  45.992500  17.166667  55.20  6.833333   \n",
       "2  19.79  44.933333  18.926667  45.890000  17.166667  55.09  6.560000   \n",
       "3  19.79  45.000000  18.890000  45.723333  17.166667  55.09  6.433333   \n",
       "4  19.79  45.000000  18.890000  45.530000  17.200000  55.09  6.366667   \n",
       "\n",
       "        RH_6         T7       RH_7    T8       RH_8         T9   RH_9  \\\n",
       "0  84.256667  17.200000  41.626667  18.2  48.900000  17.033333  45.53   \n",
       "1  84.063333  17.200000  41.560000  18.2  48.863333  17.066667  45.56   \n",
       "2  83.156667  17.200000  41.433333  18.2  48.730000  17.000000  45.50   \n",
       "3  83.423333  17.133333  41.290000  18.1  48.590000  17.000000  45.40   \n",
       "4  84.893333  17.200000  41.230000  18.1  48.590000  17.000000  45.40   \n",
       "\n",
       "      T_out  Press_mm_hg  RH_out  Windspeed  Visibility  Tdewpoint        rv1  \\\n",
       "0  6.600000        733.5    92.0   7.000000   63.000000        5.3  13.275433   \n",
       "1  6.483333        733.6    92.0   6.666667   59.166667        5.2  18.606195   \n",
       "2  6.366667        733.7    92.0   6.333333   55.333333        5.1  28.642668   \n",
       "3  6.250000        733.8    92.0   6.000000   51.500000        5.0  45.410389   \n",
       "4  6.133333        733.9    92.0   5.666667   47.666667        4.9  10.084097   \n",
       "\n",
       "         rv2  \n",
       "0  13.275433  \n",
       "1  18.606195  \n",
       "2  28.642668  \n",
       "3  45.410389  \n",
       "4  10.084097  "
      ]
     },
     "execution_count": 3,
     "metadata": {},
     "output_type": "execute_result"
    }
   ],
   "source": [
    "data = pd.read_csv('energydata_complete.csv', parse_dates=['date'])\n",
    "data.head()"
   ]
  },
  {
   "cell_type": "code",
   "execution_count": 4,
   "id": "b9a26a23",
   "metadata": {},
   "outputs": [],
   "source": [
    "scaler = MinMaxScaler()\n",
    "to_scale = data.drop(['date', 'lights'], axis=1)\n",
    "normalised_data = pd.DataFrame(scaler.fit_transform(to_scale), columns=to_scale.columns)"
   ]
  },
  {
   "cell_type": "code",
   "execution_count": 54,
   "id": "c1fe8383",
   "metadata": {},
   "outputs": [],
   "source": [
    "X = normalised_data.join(data[['date', 'lights']])"
   ]
  },
  {
   "cell_type": "code",
   "execution_count": 55,
   "id": "54c84d2d",
   "metadata": {},
   "outputs": [],
   "source": [
    "X['Year'] = X['date'].apply(lambda x: x.year)\n",
    "X['Month'] = X['date'].apply(lambda x: x.month)\n",
    "X['Day'] = X['date'].apply(lambda x: x.day)\n",
    "X['Hour'] = X['date'].apply(lambda x: x.hour)\n",
    "X['Minute'] = X['date'].apply(lambda x: x.minute)"
   ]
  },
  {
   "cell_type": "code",
   "execution_count": 56,
   "id": "3bb4c851",
   "metadata": {},
   "outputs": [],
   "source": [
    "X.drop(['date', 'Appliances'], inplace=True, axis=1)"
   ]
  },
  {
   "cell_type": "code",
   "execution_count": 57,
   "id": "86a98ca0",
   "metadata": {},
   "outputs": [
    {
     "data": {
      "text/html": [
       "<div>\n",
       "<style scoped>\n",
       "    .dataframe tbody tr th:only-of-type {\n",
       "        vertical-align: middle;\n",
       "    }\n",
       "\n",
       "    .dataframe tbody tr th {\n",
       "        vertical-align: top;\n",
       "    }\n",
       "\n",
       "    .dataframe thead th {\n",
       "        text-align: right;\n",
       "    }\n",
       "</style>\n",
       "<table border=\"1\" class=\"dataframe\">\n",
       "  <thead>\n",
       "    <tr style=\"text-align: right;\">\n",
       "      <th></th>\n",
       "      <th>T1</th>\n",
       "      <th>RH_1</th>\n",
       "      <th>T2</th>\n",
       "      <th>RH_2</th>\n",
       "      <th>T3</th>\n",
       "      <th>RH_3</th>\n",
       "      <th>T4</th>\n",
       "      <th>RH_4</th>\n",
       "      <th>T5</th>\n",
       "      <th>RH_5</th>\n",
       "      <th>T6</th>\n",
       "      <th>RH_6</th>\n",
       "      <th>T7</th>\n",
       "      <th>RH_7</th>\n",
       "      <th>T8</th>\n",
       "      <th>RH_8</th>\n",
       "      <th>T9</th>\n",
       "      <th>RH_9</th>\n",
       "      <th>T_out</th>\n",
       "      <th>Press_mm_hg</th>\n",
       "      <th>RH_out</th>\n",
       "      <th>Windspeed</th>\n",
       "      <th>Visibility</th>\n",
       "      <th>Tdewpoint</th>\n",
       "      <th>rv1</th>\n",
       "      <th>rv2</th>\n",
       "      <th>lights</th>\n",
       "      <th>Year</th>\n",
       "      <th>Month</th>\n",
       "      <th>Day</th>\n",
       "      <th>Hour</th>\n",
       "      <th>Minute</th>\n",
       "    </tr>\n",
       "  </thead>\n",
       "  <tbody>\n",
       "    <tr>\n",
       "      <th>0</th>\n",
       "      <td>0.32735</td>\n",
       "      <td>0.566187</td>\n",
       "      <td>0.225345</td>\n",
       "      <td>0.684038</td>\n",
       "      <td>0.215188</td>\n",
       "      <td>0.746066</td>\n",
       "      <td>0.351351</td>\n",
       "      <td>0.764262</td>\n",
       "      <td>0.175506</td>\n",
       "      <td>0.381691</td>\n",
       "      <td>0.381070</td>\n",
       "      <td>0.841827</td>\n",
       "      <td>0.170594</td>\n",
       "      <td>0.653428</td>\n",
       "      <td>0.173329</td>\n",
       "      <td>0.661412</td>\n",
       "      <td>0.223032</td>\n",
       "      <td>0.677290</td>\n",
       "      <td>0.372990</td>\n",
       "      <td>0.097674</td>\n",
       "      <td>0.894737</td>\n",
       "      <td>0.500000</td>\n",
       "      <td>0.953846</td>\n",
       "      <td>0.538462</td>\n",
       "      <td>0.265449</td>\n",
       "      <td>0.265449</td>\n",
       "      <td>30</td>\n",
       "      <td>2016</td>\n",
       "      <td>1</td>\n",
       "      <td>11</td>\n",
       "      <td>17</td>\n",
       "      <td>0</td>\n",
       "    </tr>\n",
       "    <tr>\n",
       "      <th>1</th>\n",
       "      <td>0.32735</td>\n",
       "      <td>0.541326</td>\n",
       "      <td>0.225345</td>\n",
       "      <td>0.682140</td>\n",
       "      <td>0.215188</td>\n",
       "      <td>0.748871</td>\n",
       "      <td>0.351351</td>\n",
       "      <td>0.782437</td>\n",
       "      <td>0.175506</td>\n",
       "      <td>0.381691</td>\n",
       "      <td>0.375443</td>\n",
       "      <td>0.839872</td>\n",
       "      <td>0.170594</td>\n",
       "      <td>0.651064</td>\n",
       "      <td>0.173329</td>\n",
       "      <td>0.660155</td>\n",
       "      <td>0.226500</td>\n",
       "      <td>0.678532</td>\n",
       "      <td>0.369239</td>\n",
       "      <td>0.100000</td>\n",
       "      <td>0.894737</td>\n",
       "      <td>0.476190</td>\n",
       "      <td>0.894872</td>\n",
       "      <td>0.533937</td>\n",
       "      <td>0.372083</td>\n",
       "      <td>0.372083</td>\n",
       "      <td>30</td>\n",
       "      <td>2016</td>\n",
       "      <td>1</td>\n",
       "      <td>11</td>\n",
       "      <td>17</td>\n",
       "      <td>10</td>\n",
       "    </tr>\n",
       "    <tr>\n",
       "      <th>2</th>\n",
       "      <td>0.32735</td>\n",
       "      <td>0.530502</td>\n",
       "      <td>0.225345</td>\n",
       "      <td>0.679445</td>\n",
       "      <td>0.215188</td>\n",
       "      <td>0.755569</td>\n",
       "      <td>0.344745</td>\n",
       "      <td>0.778062</td>\n",
       "      <td>0.175506</td>\n",
       "      <td>0.380037</td>\n",
       "      <td>0.367487</td>\n",
       "      <td>0.830704</td>\n",
       "      <td>0.170594</td>\n",
       "      <td>0.646572</td>\n",
       "      <td>0.173329</td>\n",
       "      <td>0.655586</td>\n",
       "      <td>0.219563</td>\n",
       "      <td>0.676049</td>\n",
       "      <td>0.365488</td>\n",
       "      <td>0.102326</td>\n",
       "      <td>0.894737</td>\n",
       "      <td>0.452381</td>\n",
       "      <td>0.835897</td>\n",
       "      <td>0.529412</td>\n",
       "      <td>0.572848</td>\n",
       "      <td>0.572848</td>\n",
       "      <td>30</td>\n",
       "      <td>2016</td>\n",
       "      <td>1</td>\n",
       "      <td>11</td>\n",
       "      <td>17</td>\n",
       "      <td>20</td>\n",
       "    </tr>\n",
       "    <tr>\n",
       "      <th>3</th>\n",
       "      <td>0.32735</td>\n",
       "      <td>0.524080</td>\n",
       "      <td>0.225345</td>\n",
       "      <td>0.678414</td>\n",
       "      <td>0.215188</td>\n",
       "      <td>0.758685</td>\n",
       "      <td>0.341441</td>\n",
       "      <td>0.770949</td>\n",
       "      <td>0.175506</td>\n",
       "      <td>0.380037</td>\n",
       "      <td>0.363800</td>\n",
       "      <td>0.833401</td>\n",
       "      <td>0.164310</td>\n",
       "      <td>0.641489</td>\n",
       "      <td>0.164175</td>\n",
       "      <td>0.650788</td>\n",
       "      <td>0.219563</td>\n",
       "      <td>0.671909</td>\n",
       "      <td>0.361736</td>\n",
       "      <td>0.104651</td>\n",
       "      <td>0.894737</td>\n",
       "      <td>0.428571</td>\n",
       "      <td>0.776923</td>\n",
       "      <td>0.524887</td>\n",
       "      <td>0.908261</td>\n",
       "      <td>0.908261</td>\n",
       "      <td>40</td>\n",
       "      <td>2016</td>\n",
       "      <td>1</td>\n",
       "      <td>11</td>\n",
       "      <td>17</td>\n",
       "      <td>30</td>\n",
       "    </tr>\n",
       "    <tr>\n",
       "      <th>4</th>\n",
       "      <td>0.32735</td>\n",
       "      <td>0.531419</td>\n",
       "      <td>0.225345</td>\n",
       "      <td>0.676727</td>\n",
       "      <td>0.215188</td>\n",
       "      <td>0.758685</td>\n",
       "      <td>0.341441</td>\n",
       "      <td>0.762697</td>\n",
       "      <td>0.178691</td>\n",
       "      <td>0.380037</td>\n",
       "      <td>0.361859</td>\n",
       "      <td>0.848264</td>\n",
       "      <td>0.170594</td>\n",
       "      <td>0.639362</td>\n",
       "      <td>0.164175</td>\n",
       "      <td>0.650788</td>\n",
       "      <td>0.219563</td>\n",
       "      <td>0.671909</td>\n",
       "      <td>0.357985</td>\n",
       "      <td>0.106977</td>\n",
       "      <td>0.894737</td>\n",
       "      <td>0.404762</td>\n",
       "      <td>0.717949</td>\n",
       "      <td>0.520362</td>\n",
       "      <td>0.201611</td>\n",
       "      <td>0.201611</td>\n",
       "      <td>40</td>\n",
       "      <td>2016</td>\n",
       "      <td>1</td>\n",
       "      <td>11</td>\n",
       "      <td>17</td>\n",
       "      <td>40</td>\n",
       "    </tr>\n",
       "  </tbody>\n",
       "</table>\n",
       "</div>"
      ],
      "text/plain": [
       "        T1      RH_1        T2      RH_2        T3      RH_3        T4  \\\n",
       "0  0.32735  0.566187  0.225345  0.684038  0.215188  0.746066  0.351351   \n",
       "1  0.32735  0.541326  0.225345  0.682140  0.215188  0.748871  0.351351   \n",
       "2  0.32735  0.530502  0.225345  0.679445  0.215188  0.755569  0.344745   \n",
       "3  0.32735  0.524080  0.225345  0.678414  0.215188  0.758685  0.341441   \n",
       "4  0.32735  0.531419  0.225345  0.676727  0.215188  0.758685  0.341441   \n",
       "\n",
       "       RH_4        T5      RH_5        T6      RH_6        T7      RH_7  \\\n",
       "0  0.764262  0.175506  0.381691  0.381070  0.841827  0.170594  0.653428   \n",
       "1  0.782437  0.175506  0.381691  0.375443  0.839872  0.170594  0.651064   \n",
       "2  0.778062  0.175506  0.380037  0.367487  0.830704  0.170594  0.646572   \n",
       "3  0.770949  0.175506  0.380037  0.363800  0.833401  0.164310  0.641489   \n",
       "4  0.762697  0.178691  0.380037  0.361859  0.848264  0.170594  0.639362   \n",
       "\n",
       "         T8      RH_8        T9      RH_9     T_out  Press_mm_hg    RH_out  \\\n",
       "0  0.173329  0.661412  0.223032  0.677290  0.372990     0.097674  0.894737   \n",
       "1  0.173329  0.660155  0.226500  0.678532  0.369239     0.100000  0.894737   \n",
       "2  0.173329  0.655586  0.219563  0.676049  0.365488     0.102326  0.894737   \n",
       "3  0.164175  0.650788  0.219563  0.671909  0.361736     0.104651  0.894737   \n",
       "4  0.164175  0.650788  0.219563  0.671909  0.357985     0.106977  0.894737   \n",
       "\n",
       "   Windspeed  Visibility  Tdewpoint       rv1       rv2  lights  Year  Month  \\\n",
       "0   0.500000    0.953846   0.538462  0.265449  0.265449      30  2016      1   \n",
       "1   0.476190    0.894872   0.533937  0.372083  0.372083      30  2016      1   \n",
       "2   0.452381    0.835897   0.529412  0.572848  0.572848      30  2016      1   \n",
       "3   0.428571    0.776923   0.524887  0.908261  0.908261      40  2016      1   \n",
       "4   0.404762    0.717949   0.520362  0.201611  0.201611      40  2016      1   \n",
       "\n",
       "   Day  Hour  Minute  \n",
       "0   11    17       0  \n",
       "1   11    17      10  \n",
       "2   11    17      20  \n",
       "3   11    17      30  \n",
       "4   11    17      40  "
      ]
     },
     "execution_count": 57,
     "metadata": {},
     "output_type": "execute_result"
    }
   ],
   "source": [
    "X.head()"
   ]
  },
  {
   "cell_type": "code",
   "execution_count": 58,
   "id": "ce8bf3f8",
   "metadata": {},
   "outputs": [],
   "source": [
    "y = normalised_data['Appliances']"
   ]
  },
  {
   "cell_type": "code",
   "execution_count": null,
   "id": "241a8fc2",
   "metadata": {},
   "outputs": [],
   "source": []
  },
  {
   "cell_type": "code",
   "execution_count": 59,
   "id": "baa53a70",
   "metadata": {},
   "outputs": [],
   "source": [
    "x_train, x_test, y_train, y_test = train_test_split(X, y, test_size=0.3, random_state=42)"
   ]
  },
  {
   "cell_type": "code",
   "execution_count": 79,
   "id": "8711dfc2",
   "metadata": {},
   "outputs": [
    {
     "data": {
      "text/plain": [
       "<AxesSubplot:xlabel='T2', ylabel='T6'>"
      ]
     },
     "execution_count": 79,
     "metadata": {},
     "output_type": "execute_result"
    },
    {
     "data": {
      "image/png": "[encoded data removed]",
      "text/plain": [
       "<Figure size 432x288 with 1 Axes>"
      ]
     },
     "metadata": {
      "needs_background": "light"
     },
     "output_type": "display_data"
    }
   ],
   "source": [
    "living_room_temp = np.array(x_train.iloc[:,3])\n",
    "outside_temp = np.array(x_train.iloc[:,11])\n",
    "\n",
    "sns.regplot(x='T2', y='T6', data=X)"
   ]
  },
  {
   "cell_type": "code",
   "execution_count": 62,
   "id": "62c297e0",
   "metadata": {},
   "outputs": [
    {
     "data": {
      "text/plain": [
       "LinearRegression()"
      ]
     },
     "execution_count": 62,
     "metadata": {},
     "output_type": "execute_result"
    }
   ],
   "source": [
    "model = LinearRegression()\n",
    "model.fit(x_train, y_train)"
   ]
  },
  {
   "cell_type": "code",
   "execution_count": 63,
   "id": "61596e89",
   "metadata": {},
   "outputs": [],
   "source": [
    "pred = model.predict(x_test)"
   ]
  },
  {
   "cell_type": "code",
   "execution_count": 83,
   "id": "fc248d87",
   "metadata": {},
   "outputs": [
    {
     "name": "stdout",
     "output_type": "stream",
     "text": [
      "Mean Absolute error: 0.05\n"
     ]
    }
   ],
   "source": [
    "mae = mean_absolute_error(y_test, pred) \n",
    "print('Mean Absolute error: {:.2f}'.format(mae))"
   ]
  },
  {
   "cell_type": "code",
   "execution_count": 84,
   "id": "324c41fd",
   "metadata": {},
   "outputs": [
    {
     "name": "stdout",
     "output_type": "stream",
     "text": [
      "Residual sum of squares: 44.23\n"
     ]
    }
   ],
   "source": [
    "rss = ((y_test - pred)**2).sum()\n",
    "print('Residual sum of squares: {:.2f}'.format(rss))"
   ]
  },
  {
   "cell_type": "code",
   "execution_count": 87,
   "id": "0baef7dc",
   "metadata": {
    "scrolled": true
   },
   "outputs": [
    {
     "name": "stdout",
     "output_type": "stream",
     "text": [
      "Root mean squared error: 0.086\n"
     ]
    }
   ],
   "source": [
    "rmse = np.sqrt(mean_squared_error(y_test, pred) )\n",
    "print('Root mean squared error: {:.3f}'.format(rmse))"
   ]
  },
  {
   "cell_type": "code",
   "execution_count": 86,
   "id": "dbfc3ba0",
   "metadata": {},
   "outputs": [
    {
     "name": "stdout",
     "output_type": "stream",
     "text": [
      "Coefficient of determination: 0.17\n"
     ]
    }
   ],
   "source": [
    "R_square = r2_score(y_test, pred) \n",
    "print('Coefficient of determination: {:.2f}'.format(R_square))"
   ]
  },
  {
   "cell_type": "code",
   "execution_count": null,
   "id": "ca700e50",
   "metadata": {},
   "outputs": [],
   "source": []
  },
  {
   "cell_type": "code",
   "execution_count": null,
   "id": "381a18ed",
   "metadata": {},
   "outputs": [],
   "source": []
  },
  {
   "cell_type": "code",
   "execution_count": 80,
   "id": "ed44e238",
   "metadata": {},
   "outputs": [],
   "source": [
    "def get_weights_df(model, feat, col_name):\n",
    "    weights = pd.Series(model.coef_, feat.columns).sort_values()\n",
    "    weights_df = pd.DataFrame(weights).reset_index()\n",
    "    weights_df.columns = ['Features', col_name]\n",
    "    weights_df[col_name] = weights_df[col_name].round(3)\n",
    "    \n",
    "    return weights_df"
   ]
  },
  {
   "cell_type": "code",
   "execution_count": 81,
   "id": "325aba24",
   "metadata": {},
   "outputs": [
    {
     "name": "stdout",
     "output_type": "stream",
     "text": [
      "       Features  Linear model\n",
      "0          RH_2        -0.416\n",
      "1         T_out        -0.233\n",
      "2            T2        -0.211\n",
      "3          RH_8        -0.094\n",
      "4            T9        -0.070\n",
      "5          RH_4        -0.041\n",
      "6            T1        -0.037\n",
      "7            T4        -0.035\n",
      "8          RH_7        -0.035\n",
      "9        RH_out        -0.031\n",
      "10         RH_9        -0.022\n",
      "11           T5        -0.016\n",
      "12        Month        -0.013\n",
      "13          Day        -0.000\n",
      "14         Year         0.000\n",
      "15       Minute         0.000\n",
      "16         Hour         0.001\n",
      "17          rv1         0.001\n",
      "18          rv2         0.001\n",
      "19       lights         0.002\n",
      "20         RH_5         0.004\n",
      "21           T7         0.006\n",
      "22         RH_6         0.009\n",
      "23  Press_mm_hg         0.009\n",
      "24   Visibility         0.010\n",
      "25    Windspeed         0.020\n",
      "26    Tdewpoint         0.070\n",
      "27           T8         0.075\n",
      "28         RH_3         0.075\n",
      "29           T6         0.217\n",
      "30           T3         0.314\n",
      "31         RH_1         0.500\n"
     ]
    }
   ],
   "source": [
    "model_weights = get_weights_df(model, x_train, \"Linear model\")\n",
    "print(model_weights)"
   ]
  },
  {
   "cell_type": "code",
   "execution_count": null,
   "id": "9acc5ec8",
   "metadata": {},
   "outputs": [],
   "source": []
  },
  {
   "cell_type": "code",
   "execution_count": null,
   "id": "41b87150",
   "metadata": {},
   "outputs": [],
   "source": []
  },
  {
   "cell_type": "code",
   "execution_count": 71,
   "id": "aba116c4",
   "metadata": {},
   "outputs": [
    {
     "data": {
      "text/plain": [
       "Ridge(alpha=0.4)"
      ]
     },
     "execution_count": 71,
     "metadata": {},
     "output_type": "execute_result"
    }
   ],
   "source": [
    "ridge_model = Ridge(alpha=0.4)\n",
    "ridge_model.fit(x_train, y_train)"
   ]
  },
  {
   "cell_type": "code",
   "execution_count": 72,
   "id": "6503fe88",
   "metadata": {},
   "outputs": [],
   "source": [
    "ridge_pred = ridge_model.predict(x_test)"
   ]
  },
  {
   "cell_type": "code",
   "execution_count": 73,
   "id": "6b82ccf5",
   "metadata": {},
   "outputs": [
    {
     "name": "stdout",
     "output_type": "stream",
     "text": [
      "0.09\n"
     ]
    }
   ],
   "source": [
    "ridge_rmse = np.sqrt(mean_squared_error(y_test, ridge_pred))\n",
    "print('{:.2f}'.format(ridge_rmse))"
   ]
  },
  {
   "cell_type": "code",
   "execution_count": null,
   "id": "4c6f7a74",
   "metadata": {},
   "outputs": [],
   "source": []
  },
  {
   "cell_type": "code",
   "execution_count": 74,
   "id": "3b47d86b",
   "metadata": {},
   "outputs": [
    {
     "data": {
      "text/plain": [
       "Lasso(alpha=0.001)"
      ]
     },
     "execution_count": 74,
     "metadata": {},
     "output_type": "execute_result"
    }
   ],
   "source": [
    "lasso_model = Lasso(alpha=0.001)\n",
    "lasso_model.fit(x_train, y_train)"
   ]
  },
  {
   "cell_type": "code",
   "execution_count": 82,
   "id": "8bfb631c",
   "metadata": {},
   "outputs": [
    {
     "name": "stdout",
     "output_type": "stream",
     "text": [
      "       Features  Lasso Model\n",
      "0        RH_out       -0.025\n",
      "1         Month       -0.001\n",
      "2            T1       -0.000\n",
      "3          Year        0.000\n",
      "4           rv2        0.000\n",
      "5           rv1        0.000\n",
      "6     Tdewpoint        0.000\n",
      "7    Visibility        0.000\n",
      "8     Windspeed        0.000\n",
      "9   Press_mm_hg       -0.000\n",
      "10        T_out        0.000\n",
      "11         RH_9        0.000\n",
      "12           T9        0.000\n",
      "13           T8        0.000\n",
      "14         RH_8       -0.000\n",
      "15         RH_3        0.000\n",
      "16           T7        0.000\n",
      "17         RH_6       -0.000\n",
      "18         RH_5       -0.000\n",
      "19           T5       -0.000\n",
      "20         RH_4        0.000\n",
      "21           T4       -0.000\n",
      "22         RH_7       -0.000\n",
      "23         RH_1        0.000\n",
      "24         RH_2       -0.000\n",
      "25           T2        0.000\n",
      "26          Day        0.000\n",
      "27       Minute        0.000\n",
      "28           T6        0.000\n",
      "29       lights        0.002\n",
      "30         Hour        0.002\n",
      "31           T3        0.015\n"
     ]
    }
   ],
   "source": [
    "lasso_weights = get_weights_df(lasso_model, x_train, \"Lasso Model\")\n",
    "print(lasso_weights)"
   ]
  },
  {
   "cell_type": "code",
   "execution_count": 77,
   "id": "0d7b87e1",
   "metadata": {},
   "outputs": [],
   "source": [
    "lasso_pred = lasso_model.predict(x_test)"
   ]
  },
  {
   "cell_type": "code",
   "execution_count": 88,
   "id": "e4e362e3",
   "metadata": {},
   "outputs": [
    {
     "name": "stdout",
     "output_type": "stream",
     "text": [
      "Lasso root mean squared error: 0.091\n"
     ]
    }
   ],
   "source": [
    "lasso_rmse = np.sqrt(mean_squared_error(y_test, lasso_pred))\n",
    "print('Lasso root mean squared error: {:.3f}'.format(lasso_rmse))"
   ]
  },
  {
   "cell_type": "code",
   "execution_count": null,
   "id": "7c8e57d8",
   "metadata": {},
   "outputs": [],
   "source": []
  },
  {
   "cell_type": "code",
   "execution_count": null,
   "id": "a64e0182",
   "metadata": {},
   "outputs": [],
   "source": []
  },
  {
   "cell_type": "code",
   "execution_count": null,
   "id": "9997fc32",
   "metadata": {},
   "outputs": [],
   "source": []
  },
  {
   "cell_type": "code",
   "execution_count": null,
   "id": "627fe015",
   "metadata": {},
   "outputs": [],
   "source": []
  }
 ],
 "metadata": {
  "kernelspec": {
   "display_name": "Python 3",
   "language": "python",
   "name": "python3"
  },
  "language_info": {
   "codemirror_mode": {
    "name": "ipython",
    "version": 3
   },
   "file_extension": ".py",
   "mimetype": "text/x-python",
   "name": "python",
   "nbconvert_exporter": "python",
   "pygments_lexer": "ipython3",
   "version": "3.8.8"
  }
 },
 "nbformat": 4,
 "nbformat_minor": 5
}
